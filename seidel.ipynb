{
 "cells": [
  {
   "cell_type": "markdown",
   "metadata": {},
   "source": [
    "# seidelmethod"
   ]
  },
  {
   "cell_type": "markdown",
   "metadata": {},
   "source": [
    "# Name Hassan Habib Khan 9760"
   ]
  },
  {
   "cell_type": "code",
   "execution_count": 8,
   "metadata": {},
   "outputs": [],
   "source": [
    "import numpy as np\n",
    "import pandas as pd\n",
    "import math\n",
    "import matplotlib.pyplot as plt"
   ]
  },
  {
   "cell_type": "code",
   "execution_count": 9,
   "metadata": {},
   "outputs": [
    {
     "data": {
      "text/html": [
       "<div>\n",
       "<style scoped>\n",
       "    .dataframe tbody tr th:only-of-type {\n",
       "        vertical-align: middle;\n",
       "    }\n",
       "\n",
       "    .dataframe tbody tr th {\n",
       "        vertical-align: top;\n",
       "    }\n",
       "\n",
       "    .dataframe thead th {\n",
       "        text-align: right;\n",
       "    }\n",
       "</style>\n",
       "<table border=\"1\" class=\"dataframe\">\n",
       "  <thead>\n",
       "    <tr style=\"text-align: right;\">\n",
       "      <th></th>\n",
       "      <th>x1</th>\n",
       "      <th>x2</th>\n",
       "      <th>x3</th>\n",
       "    </tr>\n",
       "  </thead>\n",
       "  <tbody>\n",
       "    <tr>\n",
       "      <th>1</th>\n",
       "      <td>5.625</td>\n",
       "      <td>4.409</td>\n",
       "      <td>-0.998</td>\n",
       "    </tr>\n",
       "    <tr>\n",
       "      <th>2</th>\n",
       "      <td>7.528</td>\n",
       "      <td>3.626</td>\n",
       "      <td>-1.754</td>\n",
       "    </tr>\n",
       "    <tr>\n",
       "      <th>3</th>\n",
       "      <td>7.423</td>\n",
       "      <td>3.596</td>\n",
       "      <td>-1.694</td>\n",
       "    </tr>\n",
       "    <tr>\n",
       "      <th>4</th>\n",
       "      <td>7.397</td>\n",
       "      <td>3.611</td>\n",
       "      <td>-1.684</td>\n",
       "    </tr>\n",
       "    <tr>\n",
       "      <th>5</th>\n",
       "      <td>7.400</td>\n",
       "      <td>3.610</td>\n",
       "      <td>-1.686</td>\n",
       "    </tr>\n",
       "    <tr>\n",
       "      <th>6</th>\n",
       "      <td>7.400</td>\n",
       "      <td>3.610</td>\n",
       "      <td>-1.686</td>\n",
       "    </tr>\n",
       "    <tr>\n",
       "      <th>7</th>\n",
       "      <td>7.400</td>\n",
       "      <td>3.610</td>\n",
       "      <td>-1.686</td>\n",
       "    </tr>\n",
       "    <tr>\n",
       "      <th>8</th>\n",
       "      <td>7.400</td>\n",
       "      <td>3.610</td>\n",
       "      <td>-1.686</td>\n",
       "    </tr>\n",
       "    <tr>\n",
       "      <th>9</th>\n",
       "      <td>7.400</td>\n",
       "      <td>3.610</td>\n",
       "      <td>-1.686</td>\n",
       "    </tr>\n",
       "  </tbody>\n",
       "</table>\n",
       "</div>"
      ],
      "text/plain": [
       "      x1     x2     x3\n",
       "1  5.625  4.409 -0.998\n",
       "2  7.528  3.626 -1.754\n",
       "3  7.423  3.596 -1.694\n",
       "4  7.397  3.611 -1.684\n",
       "5  7.400  3.610 -1.686\n",
       "6  7.400  3.610 -1.686\n",
       "7  7.400  3.610 -1.686\n",
       "8  7.400  3.610 -1.686\n",
       "9  7.400  3.610 -1.686"
      ]
     },
     "execution_count": 9,
     "metadata": {},
     "output_type": "execute_result"
    }
   ],
   "source": [
    "df = pd.DataFrame(columns=['x1','x2','x3'])\n",
    "c = np.array([[8,-3,2,45],[4,11,-1,71],[6,3,12,35]])\n",
    "\n",
    "x = np.zeros(len(c)) \n",
    "for k in range(0,9):\n",
    "    for i in range(0,len(c)):\n",
    "        y=0\n",
    "        for j in range(0,len(c)): \n",
    "            if i != j:\n",
    "                y = y + (c[i][j] * x[j]) \n",
    "        y = c[i][len(c)] - y\n",
    "        x[i] = y / c[i][i] \n",
    "    df.loc[k+1] = [x[0],x[1],x[2]]\n",
    "            \n",
    "round(df,3)"
   ]
  },
  {
   "cell_type": "code",
   "execution_count": null,
   "metadata": {},
   "outputs": [],
   "source": []
  },
  {
   "cell_type": "code",
   "execution_count": null,
   "metadata": {},
   "outputs": [],
   "source": []
  }
 ],
 "metadata": {
  "kernelspec": {
   "display_name": "Python 3",
   "language": "python",
   "name": "python3"
  },
  "language_info": {
   "codemirror_mode": {
    "name": "ipython",
    "version": 3
   },
   "file_extension": ".py",
   "mimetype": "text/x-python",
   "name": "python",
   "nbconvert_exporter": "python",
   "pygments_lexer": "ipython3",
   "version": "3.7.3"
  }
 },
 "nbformat": 4,
 "nbformat_minor": 2
}
