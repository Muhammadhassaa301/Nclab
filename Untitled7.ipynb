{
 "cells": [
  {
   "cell_type": "markdown",
   "metadata": {},
   "source": [
    "# Muhammad Hassaan(9646)"
   ]
  },
  {
   "cell_type": "code",
   "execution_count": 3,
   "metadata": {},
   "outputs": [
    {
     "name": "stdout",
     "output_type": "stream",
     "text": [
      "4\n",
      "0.6222395537256559\n"
     ]
    }
   ],
   "source": [
    "import numpy as np \n",
    "import pandas as pd \n",
    "def f(x):\n",
    "    return np.cos(x) - 1.3 * x\n",
    "alst = list() \n",
    "blst = list() \n",
    "rootlst = list() \n",
    "itrlst = list()\n",
    "def RegularFarsi(a,b,tol):\n",
    "    count = 1\n",
    "    while(count < 10):\n",
    "        c = (a * f(b) - b * f(a)) / (f(b) - f(a))\n",
    "        if (c == 0 or np.abs(f(c)) < tol):\n",
    "            break;\n",
    "        if f(c) * f(a) < 0:\n",
    "            b=c\n",
    "        else: a=c\n",
    "        itrlst.append(count)\n",
    "        alst.append(a)\n",
    "        blst.append(b)\n",
    "        rootlst.append(c)\n",
    "        count += 1\n",
    "    return c, count\n",
    "root, itr = RegularFarsi(-1,2,0.01) \n",
    "print(itr)\n",
    "print(root)"
   ]
  },
  {
   "cell_type": "code",
   "execution_count": 6,
   "metadata": {},
   "outputs": [],
   "source": [
    "RFDic = {\n",
    "    \"Iteration\" : itrlst, \n",
    "    \"a\" : alst,\n",
    "    \"b\" : blst,\n",
    "    \"Root\" : rootlst\n",
    "}"
   ]
  },
  {
   "cell_type": "code",
   "execution_count": 7,
   "metadata": {},
   "outputs": [],
   "source": [
    " RegularFarsiReadings = pd.DataFrame(RFDic)"
   ]
  },
  {
   "cell_type": "code",
   "execution_count": 8,
   "metadata": {},
   "outputs": [
    {
     "data": {
      "text/html": [
       "<div>\n",
       "<style scoped>\n",
       "    .dataframe tbody tr th:only-of-type {\n",
       "        vertical-align: middle;\n",
       "    }\n",
       "\n",
       "    .dataframe tbody tr th {\n",
       "        vertical-align: top;\n",
       "    }\n",
       "\n",
       "    .dataframe thead th {\n",
       "        text-align: right;\n",
       "    }\n",
       "</style>\n",
       "<table border=\"1\" class=\"dataframe\">\n",
       "  <thead>\n",
       "    <tr style=\"text-align: right;\">\n",
       "      <th></th>\n",
       "      <th>a</th>\n",
       "      <th>b</th>\n",
       "      <th>Root</th>\n",
       "    </tr>\n",
       "    <tr>\n",
       "      <th>Iteration</th>\n",
       "      <th></th>\n",
       "      <th></th>\n",
       "      <th></th>\n",
       "    </tr>\n",
       "  </thead>\n",
       "  <tbody>\n",
       "    <tr>\n",
       "      <th>1</th>\n",
       "      <td>0.136820</td>\n",
       "      <td>2</td>\n",
       "      <td>0.136820</td>\n",
       "    </tr>\n",
       "    <tr>\n",
       "      <th>2</th>\n",
       "      <td>0.532327</td>\n",
       "      <td>2</td>\n",
       "      <td>0.532327</td>\n",
       "    </tr>\n",
       "    <tr>\n",
       "      <th>3</th>\n",
       "      <td>0.610463</td>\n",
       "      <td>2</td>\n",
       "      <td>0.610463</td>\n",
       "    </tr>\n",
       "  </tbody>\n",
       "</table>\n",
       "</div>"
      ],
      "text/plain": [
       "                  a  b      Root\n",
       "Iteration                       \n",
       "1          0.136820  2  0.136820\n",
       "2          0.532327  2  0.532327\n",
       "3          0.610463  2  0.610463"
      ]
     },
     "execution_count": 8,
     "metadata": {},
     "output_type": "execute_result"
    }
   ],
   "source": [
    "RegularFarsiReadings.set_index(\"Iteration\")"
   ]
  },
  {
   "cell_type": "code",
   "execution_count": null,
   "metadata": {},
   "outputs": [],
   "source": []
  }
 ],
 "metadata": {
  "kernelspec": {
   "display_name": "Python 3",
   "language": "python",
   "name": "python3"
  },
  "language_info": {
   "codemirror_mode": {
    "name": "ipython",
    "version": 3
   },
   "file_extension": ".py",
   "mimetype": "text/x-python",
   "name": "python",
   "nbconvert_exporter": "python",
   "pygments_lexer": "ipython3",
   "version": "3.7.3"
  }
 },
 "nbformat": 4,
 "nbformat_minor": 2
}
