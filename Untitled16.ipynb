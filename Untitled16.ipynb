{
 "cells": [
  {
   "cell_type": "markdown",
   "metadata": {},
   "source": [
    "# Name :Muhammad Hassaan (9646)"
   ]
  },
  {
   "cell_type": "markdown",
   "metadata": {},
   "source": [
    "# LU Decompostion"
   ]
  },
  {
   "cell_type": "code",
   "execution_count": 1,
   "metadata": {},
   "outputs": [],
   "source": [
    "import numpy as np"
   ]
  },
  {
   "cell_type": "code",
   "execution_count": 7,
   "metadata": {},
   "outputs": [
    {
     "name": "stdout",
     "output_type": "stream",
     "text": [
      "Lower Triangular\t\tUpper Triangular\n",
      "1\t0\t0\t\t2\t-1\t-2\t\n",
      "-2\t1\t0\t\t0\t4\t-1\t\n",
      "-2\t-1\t1\t\t0\t0\t3\t\n",
      "\n",
      " L*U \n",
      "\n",
      "[[ 2 -1 -2]\n",
      " [-4  6  3]\n",
      " [-4 -2  8]]\n"
     ]
    }
   ],
   "source": [
    "MAX = 100;\n",
    "\n",
    "def luDecomposition(mat, n):\n",
    "    \n",
    "    lower = [[0 for x in range(n)]\n",
    "                for y in range(n)];\n",
    "    upper = [[0 for x in range(n)] \n",
    "             for y in range(n)];\n",
    "# Decomposing matrix into Upper\n",
    "# and Lower triangular matrix \n",
    "    for i in range(n):\n",
    "        \n",
    "        # Upper Triangular\n",
    "        \n",
    "        for k in range(i, n):\n",
    "            # Summation of L(i, j) * U(j, k)\n",
    "            sum = 0;\n",
    "            for j in range(i):\n",
    "                sum += (lower[i][j] * upper[j][k]); \n",
    "            \n",
    "            # Evaluating U(i, k)\n",
    "            upper[i][k] = mat[i][k] - sum;\n",
    "        # Lower Triangular\n",
    "        for k in range(i, n): \n",
    "            if (i == k):\n",
    "                lower[i][i] = 1;\n",
    "                # Diagonal as 1 \n",
    "            else:\n",
    "                # Summation of L(k, j) * U(j, i)\n",
    "                sum = 0;\n",
    "                for j in range(i):\n",
    "                    sum += (lower[k][j] * upper[j][i]); \n",
    "                    \n",
    "                    # Evaluating L(k, i)\n",
    "                lower[k][i] = int((mat[k][i] - sum) / upper[i][i]);\n",
    "                \n",
    "                # setw is for displaying nicely\n",
    "    print(\"Lower Triangular\\t\\tUpper Triangular\"); \n",
    "    # Displaying the result :\n",
    "    for i in range(n):\n",
    "     # Lower\n",
    "        for j in range(n):\n",
    "            print(lower[i][j], end = \"\\t\");\n",
    "        print(\"\", end = \"\\t\");\n",
    "# Upper\n",
    "        for j in range(n): \n",
    "            print(upper[i][j], end = \"\\t\");\n",
    "        print(\"\");\n",
    "        \n",
    "    print('\\n L*U \\n')\n",
    "    print(np.dot(lower, upper))\n",
    "    \n",
    "mat = [[2, -1, -2],\n",
    "       [-4, 6, 3],\n",
    "       [-4, -2, 8]];\n",
    "\n",
    "luDecomposition(mat, 3);   \n",
    "     \n",
    "    "
   ]
  },
  {
   "cell_type": "code",
   "execution_count": 11,
   "metadata": {},
   "outputs": [
    {
     "name": "stdout",
     "output_type": "stream",
     "text": [
      "\n",
      " 2\n",
      "\n",
      " -1\n",
      "\n",
      " -2\n",
      "\n",
      " 6\n",
      "\n",
      " 3\n",
      "\n",
      " 8\n",
      "\n",
      "\n",
      "\n",
      "Upper Triangular\n",
      "2\t-1\t-2\t0\t6\t3\t0\t0\t8\t\n"
     ]
    }
   ],
   "source": [
    "MAX = 100\n",
    "\n",
    "def luDecomposition(mat, n):\n",
    "    \n",
    "    lower = [[0 for x in range(n)] \n",
    "             for y in range(n)];\n",
    "    \n",
    "    upper = [[0 for x in range(n)] \n",
    "             for y in range(n)];\n",
    "    for i in range(n):\n",
    "# Upper Triangular\n",
    "        for k in range(i, n):\n",
    "            sum = 0;\n",
    "            for j in range(i):\n",
    "                sum += (lower[i][j] * upper[j][k]);\n",
    "            upper[i][k] = mat[i][k] - sum;\n",
    "            print(\"\\n\", upper[i][k])\n",
    "    print(\"\\n\\n\\nUpper Triangular\");\n",
    "    \n",
    "    # Displaying the result :\n",
    "    for i in range(n):\n",
    "        for j in range(n):\n",
    "            print(upper[i][j], end = \"\\t\");\n",
    "    print(\"\");\n",
    "    \n",
    "   # Driver code\n",
    "mat = [[2, -1, -2], \n",
    "       [-4, 6, 3],\n",
    "       [-4, -2, 8]]; \n",
    "\n",
    "luDecomposition(mat, 3);"
   ]
  },
  {
   "cell_type": "code",
   "execution_count": 12,
   "metadata": {},
   "outputs": [
    {
     "name": "stdout",
     "output_type": "stream",
     "text": [
      "2\t-1\t-2\t\n",
      "0\t6\t3\t\n",
      "0\t0\t8\t\n"
     ]
    }
   ],
   "source": [
    "MAX = 100\n",
    "\n",
    "def luDecomposition(mat, n):\n",
    "    \n",
    "    lower = [[0 for x in range(n)] \n",
    "             for y in range(n)];\n",
    "    upper = [[0 for x in range(n)]\n",
    "             for y in range(n)];\n",
    "    for row in range(n):\n",
    "        # Upper matrix\n",
    "        for col in range(row, n): \n",
    "            sum = 0;\n",
    "            for j in range(row):\n",
    "                sum += (lower[row][j] * upper[j][col]);\n",
    "            upper[row][col] = mat[row][col] - sum; \n",
    "            \n",
    "            \n",
    "# Displaying the result :\n",
    "    for i in range(n):\n",
    "# Upper\n",
    "        for j in range(n): \n",
    "            print(upper[i][j], end = \"\\t\");\n",
    "        print(\"\");\n",
    "mat = [[2, -1, -2], \n",
    "       [-4, 6, 3],\n",
    "       [-4, -2, 8]];\n",
    "luDecomposition(mat, 3);"
   ]
  },
  {
   "cell_type": "code",
   "execution_count": null,
   "metadata": {},
   "outputs": [],
   "source": []
  }
 ],
 "metadata": {
  "kernelspec": {
   "display_name": "Python 3",
   "language": "python",
   "name": "python3"
  },
  "language_info": {
   "codemirror_mode": {
    "name": "ipython",
    "version": 3
   },
   "file_extension": ".py",
   "mimetype": "text/x-python",
   "name": "python",
   "nbconvert_exporter": "python",
   "pygments_lexer": "ipython3",
   "version": "3.7.3"
  }
 },
 "nbformat": 4,
 "nbformat_minor": 2
}
