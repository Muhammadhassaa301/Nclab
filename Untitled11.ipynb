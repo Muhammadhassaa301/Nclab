{
 "cells": [
  {
   "cell_type": "markdown",
   "metadata": {},
   "source": [
    "# Muhammad Hassaan (9646)"
   ]
  },
  {
   "cell_type": "markdown",
   "metadata": {},
   "source": [
    "# Gauss Elimination"
   ]
  },
  {
   "cell_type": "code",
   "execution_count": 5,
   "metadata": {},
   "outputs": [
    {
     "name": "stdout",
     "output_type": "stream",
     "text": [
      "x1 is : 1.05862\n",
      "x2 is : 1.36238\n",
      "x3 is : 1.96296\n"
     ]
    }
   ],
   "source": [
    "import numpy as np\n",
    "c = np.array([[83,11,-4,95],[7,52,13,104],[3,8,29,71]])\n",
    "x = np.ones(3)\n",
    "n = len(c)\n",
    "for i in range(0,n):\n",
    "    for j in range((i+1),n):\n",
    "        c[j] = c[j]-(c[i]*(c[j][i])/(c[i][i]))\n",
    "        \n",
    "for i in range(n-1,-1,-1):\n",
    "    y=0\n",
    "    for j in range(n-1,-1,-1): \n",
    "        if i != j:\n",
    "            if i < j:\n",
    "                y = y + ((c[i][j]) * x[j])\n",
    "            else:\n",
    "                y = y + c[i][j]\n",
    "    y = c[i][3] - y\n",
    "    x[i] = y / c[i][i]\n",
    "    \n",
    "for i in range(0,int(len(x))):\n",
    "    print(f\"x{i+1} is :\", round(x[i],5))"
   ]
  },
  {
   "cell_type": "code",
   "execution_count": 6,
   "metadata": {},
   "outputs": [
    {
     "name": "stdout",
     "output_type": "stream",
     "text": [
      "x1 is : 7.48125\n",
      "x2 is : 3.68333\n",
      "x3 is : -1.9\n"
     ]
    }
   ],
   "source": [
    "import numpy as np\n",
    "c = np.array([[8,-3,2,45],[4,11,-1,71],[6,3,12,35]]) \n",
    "x = np.ones(3)\n",
    "n = len(c)\n",
    "for i in range(0,n):\n",
    "    for j in range((i+1),n):\n",
    "        c[j] = c[j]-(c[i]*(c[j][i])/(c[i][i]))\n",
    "        \n",
    "for i in range(n-1,-1,-1): \n",
    "    y=0\n",
    "    for j in range(n-1,-1,-1): \n",
    "        if i != j:\n",
    "            if i < j:\n",
    "                y = y + ((c[i][j]) * x[j])\n",
    "            else:\n",
    "                y = y + c[i][j]\n",
    "    y = c[i][3] - y\n",
    "    x[i] = y / c[i][i]\n",
    "for i in range(0,int(len(x))):\n",
    "    print(f\"x{i+1} is :\", round(x[i],5))"
   ]
  },
  {
   "cell_type": "code",
   "execution_count": null,
   "metadata": {},
   "outputs": [],
   "source": []
  },
  {
   "cell_type": "code",
   "execution_count": null,
   "metadata": {},
   "outputs": [],
   "source": []
  },
  {
   "cell_type": "code",
   "execution_count": null,
   "metadata": {},
   "outputs": [],
   "source": []
  }
 ],
 "metadata": {
  "kernelspec": {
   "display_name": "Python 3",
   "language": "python",
   "name": "python3"
  },
  "language_info": {
   "codemirror_mode": {
    "name": "ipython",
    "version": 3
   },
   "file_extension": ".py",
   "mimetype": "text/x-python",
   "name": "python",
   "nbconvert_exporter": "python",
   "pygments_lexer": "ipython3",
   "version": "3.7.3"
  }
 },
 "nbformat": 4,
 "nbformat_minor": 2
}
