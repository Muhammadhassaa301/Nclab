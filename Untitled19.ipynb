{
 "cells": [
  {
   "cell_type": "markdown",
   "metadata": {},
   "source": [
    "# Question :1"
   ]
  },
  {
   "cell_type": "code",
   "execution_count": 16,
   "metadata": {},
   "outputs": [
    {
     "ename": "IndentationError",
     "evalue": "unindent does not match any outer indentation level (<tokenize>, line 13)",
     "output_type": "error",
     "traceback": [
      "\u001b[0;36m  File \u001b[0;32m\"<tokenize>\"\u001b[0;36m, line \u001b[0;32m13\u001b[0m\n\u001b[0;31m    c=a\u001b[0m\n\u001b[0m    ^\u001b[0m\n\u001b[0;31mIndentationError\u001b[0m\u001b[0;31m:\u001b[0m unindent does not match any outer indentation level\n"
     ]
    }
   ],
   "source": [
    "print(\"Muhammad Hassaan\")\n",
    "print(\"9646\")\n",
    "\n",
    "import math\n",
    "def func(x):\n",
    "    return math.sin(x)-(0.001*x)+(0.002*x)\n",
    "\n",
    "def bisection(a,b):\n",
    "     if (func(a) * func(b) >= 0):\n",
    "        print(\"You have not assumed right a and b\\n\")\n",
    "        return\n",
    "    \n",
    "    c=a\n",
    "    while ((b-a) >= 0.009):\n",
    "        c = (a+b)/2\n",
    "        if (func(c) == 0.0):\n",
    "            break\n",
    "        if (func(c) * func(a) < 0):\n",
    "            b=c\n",
    "        else:\n",
    "            a=c\n",
    "        print(\"The value of root is : \",\"%.4f\"%c)\n",
    "a=7\n",
    "b=11\n",
    "bisection(a, b)"
   ]
  },
  {
   "cell_type": "code",
   "execution_count": null,
   "metadata": {},
   "outputs": [],
   "source": []
  },
  {
   "cell_type": "code",
   "execution_count": null,
   "metadata": {},
   "outputs": [],
   "source": []
  },
  {
   "cell_type": "code",
   "execution_count": null,
   "metadata": {},
   "outputs": [],
   "source": []
  },
  {
   "cell_type": "code",
   "execution_count": 4,
   "metadata": {},
   "outputs": [
    {
     "name": "stdout",
     "output_type": "stream",
     "text": [
      "Student Name : Muhammad Hassaan\n",
      "Student Id : 9646\n"
     ]
    },
    {
     "ename": "NameError",
     "evalue": "name '_name_' is not defined",
     "output_type": "error",
     "traceback": [
      "\u001b[0;31m---------------------------------------------------------------------------\u001b[0m",
      "\u001b[0;31mNameError\u001b[0m                                 Traceback (most recent call last)",
      "\u001b[0;32m<ipython-input-4-9e444e3f8f55>\u001b[0m in \u001b[0;36m<module>\u001b[0;34m\u001b[0m\n\u001b[1;32m     43\u001b[0m             \u001b[0mA\u001b[0m\u001b[0;34m[\u001b[0m\u001b[0mk\u001b[0m\u001b[0;34m]\u001b[0m\u001b[0;34m[\u001b[0m\u001b[0mn\u001b[0m\u001b[0;34m]\u001b[0m \u001b[0;34m-=\u001b[0m \u001b[0mA\u001b[0m\u001b[0;34m[\u001b[0m\u001b[0mk\u001b[0m\u001b[0;34m]\u001b[0m\u001b[0;34m[\u001b[0m\u001b[0mi\u001b[0m\u001b[0;34m]\u001b[0m \u001b[0;34m*\u001b[0m \u001b[0mx\u001b[0m\u001b[0;34m[\u001b[0m\u001b[0mi\u001b[0m\u001b[0;34m]\u001b[0m\u001b[0;34m\u001b[0m\u001b[0;34m\u001b[0m\u001b[0m\n\u001b[1;32m     44\u001b[0m     \u001b[0;32mreturn\u001b[0m \u001b[0mx\u001b[0m\u001b[0;34m\u001b[0m\u001b[0;34m\u001b[0m\u001b[0m\n\u001b[0;32m---> 45\u001b[0;31m \u001b[0;32mif\u001b[0m \u001b[0m_name_\u001b[0m \u001b[0;34m==\u001b[0m \u001b[0;34m'_main_'\u001b[0m\u001b[0;34m:\u001b[0m\u001b[0;34m\u001b[0m\u001b[0;34m\u001b[0m\u001b[0m\n\u001b[0m\u001b[1;32m     46\u001b[0m     \u001b[0;32mfrom\u001b[0m \u001b[0mfractions\u001b[0m \u001b[0;32mimport\u001b[0m \u001b[0mFraction\u001b[0m\u001b[0;34m\u001b[0m\u001b[0;34m\u001b[0m\u001b[0m\n\u001b[1;32m     47\u001b[0m \u001b[0;34m\u001b[0m\u001b[0m\n",
      "\u001b[0;31mNameError\u001b[0m: name '_name_' is not defined"
     ]
    }
   ],
   "source": []
  },
  {
   "cell_type": "code",
   "execution_count": null,
   "metadata": {},
   "outputs": [],
   "source": []
  },
  {
   "cell_type": "markdown",
   "metadata": {},
   "source": [
    "# Question 5(A)"
   ]
  },
  {
   "cell_type": "code",
   "execution_count": 30,
   "metadata": {},
   "outputs": [
    {
     "name": "stdout",
     "output_type": "stream",
     "text": [
      "m faraz\n",
      "9536\n",
      "Enter number of Data points: 6\n",
      "Enter data for x and y: \n",
      "x[0]=1\n",
      " y[0]=2\n",
      "x[1]=4\n",
      " y[1]=8\n",
      "x[2]=6\n",
      " y[2]=15\n",
      "x[3]=8\n",
      " y[3]=16\n",
      "x[4]=11\n",
      " y[4]=22\n",
      "x[5]=13\n",
      " y[5]=25\n",
      "Enter interpolation points: 12\n",
      "Interpolated value at 12.000 is 25.229\n"
     ]
    }
   ],
   "source": [
    "print(\"m faraz\")\n",
    "print(\"9536\")\n",
    "\n",
    "import numpy as np \n",
    "n=int(input(\"Enter number of Data points: \"))\n",
    "\n",
    "x=np.zeros((n))\n",
    "y=np.zeros((n)) \n",
    "\n",
    "print(\"Enter data for x and y: \") \n",
    "for i in range(n): \n",
    "    x[i]=float(input('x['+str(i)+']='))\n",
    "    y[i]=float(input(' y['+str(i)+']='))\n",
    "    \n",
    "xp=float(input(\"Enter interpolation points: \")) \n",
    "yp=0 \n",
    "for i in range(n): \n",
    "    p=1\n",
    "    for j in range(n): \n",
    "        if i!=j:\n",
    "            p=p* (xp-x[j])/(x[i]-x[j]) \n",
    "    yp=yp + p*y[i] \n",
    "                \n",
    "print('Interpolated value at %.3f is %.3f'% (xp, yp))"
   ]
  },
  {
   "cell_type": "markdown",
   "metadata": {},
   "source": [
    "# Question 5(B)"
   ]
  },
  {
   "cell_type": "code",
   "execution_count": 31,
   "metadata": {},
   "outputs": [
    {
     "name": "stdout",
     "output_type": "stream",
     "text": [
      "m faraz \n",
      "9536\n",
      "Enter number of Data points: 6\n",
      "Enter data for x and y: \n",
      "x[0]=1\n",
      " y[0]=2\n",
      "x[1]=4\n",
      " y[1]=8\n",
      "x[2]=6\n",
      " y[2]=15\n",
      "x[3]=8\n",
      " y[3]=16\n",
      "x[4]=11\n",
      " y[4]=22\n",
      "x[5]=13\n",
      " y[5]=25\n",
      "Enter interpolation points: 4\n",
      "Interpolated value at 4.000 is 8.000\n"
     ]
    }
   ],
   "source": [
    "print(\"m faraz \")\n",
    "print(\"9536\")\n",
    "\n",
    "import numpy as np\n",
    "n=int(input(\"Enter number of Data points: \")) \n",
    "\n",
    "x=np.zeros((n))\n",
    "y=np.zeros((n)) \n",
    "\n",
    "print(\"Enter data for x and y: \") \n",
    "for i in range(n): \n",
    "    x[i]=float(input('x['+str(i)+']=')) \n",
    "    y[i]=float(input(' y['+str(i)+']=')) \n",
    "    \n",
    "xp=float(input(\"Enter interpolation points: \")) \n",
    "yp=0\n",
    "\n",
    "for i in range(n):\n",
    "    p=1 \n",
    "    for j in range(n): \n",
    "            if i!=j:\n",
    "                p=p* (xp-x[j])/(x[i]-x[j])\n",
    "    yp=yp + p*y[i]\n",
    "    \n",
    "print('Interpolated value at %.3f is %.3f'% (xp, yp))"
   ]
  },
  {
   "cell_type": "code",
   "execution_count": null,
   "metadata": {},
   "outputs": [],
   "source": []
  },
  {
   "cell_type": "code",
   "execution_count": null,
   "metadata": {},
   "outputs": [],
   "source": []
  }
 ],
 "metadata": {
  "kernelspec": {
   "display_name": "Python 3",
   "language": "python",
   "name": "python3"
  },
  "language_info": {
   "codemirror_mode": {
    "name": "ipython",
    "version": 3
   },
   "file_extension": ".py",
   "mimetype": "text/x-python",
   "name": "python",
   "nbconvert_exporter": "python",
   "pygments_lexer": "ipython3",
   "version": "3.7.3"
  }
 },
 "nbformat": 4,
 "nbformat_minor": 2
}
