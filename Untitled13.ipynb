{
 "cells": [
  {
   "cell_type": "markdown",
   "metadata": {},
   "source": [
    "# Name Muhammad Hassaan (9646)"
   ]
  },
  {
   "cell_type": "markdown",
   "metadata": {},
   "source": [
    "# JacobiMethod"
   ]
  },
  {
   "cell_type": "code",
   "execution_count": null,
   "metadata": {},
   "outputs": [],
   "source": [
    "import numpy as np \n",
    "import pandas as pd\n",
    "df = pd.DataFrame(columns=['x1','x2','x3'])\n",
    "c = np.array([[8,-3,2,45],[4,11 ,-1,71],[6,3,12,35]])\n",
    "x = np.ones(3)\n",
    "\n",
    "x = np.zeros(len(c))\n",
    "xcop = np.zeros(len(c)) \n",
    "for k in range(0,15):\n",
    "    for i in range(0,len(c)):\n",
    "        y=0\n",
    "        for j in range(0,len(c)):\n",
    "            if i != j:\n",
    "                y = y + (c[i][j] * x[j]) \n",
    "     y = c[i][len(c)] - y\n",
    "xcop[i] = y / c[i][i] for i in range(0,len(x)):\n",
    "x[i] = xcop[i] df.loc[k+1] = [x[0],x[1],x[2]]\n",
    "round(df,4)"
   ]
  }
 ],
 "metadata": {
  "kernelspec": {
   "display_name": "Python 3",
   "language": "python",
   "name": "python3"
  },
  "language_info": {
   "codemirror_mode": {
    "name": "ipython",
    "version": 3
   },
   "file_extension": ".py",
   "mimetype": "text/x-python",
   "name": "python",
   "nbconvert_exporter": "python",
   "pygments_lexer": "ipython3",
   "version": "3.7.3"
  }
 },
 "nbformat": 4,
 "nbformat_minor": 2
}
