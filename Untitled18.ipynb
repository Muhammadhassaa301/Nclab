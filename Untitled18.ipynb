{
 "cells": [
  {
   "cell_type": "markdown",
   "metadata": {},
   "source": [
    "# Muhammad Hassaan 9646"
   ]
  },
  {
   "cell_type": "code",
   "execution_count": 1,
   "metadata": {},
   "outputs": [
    {
     "ename": "NameError",
     "evalue": "name 'dividedDiffTable' is not defined",
     "output_type": "error",
     "traceback": [
      "\u001b[0;31m---------------------------------------------------------------------------\u001b[0m",
      "\u001b[0;31mNameError\u001b[0m                                 Traceback (most recent call last)",
      "\u001b[0;32m<ipython-input-1-08bf5fef01d0>\u001b[0m in \u001b[0;36m<module>\u001b[0;34m\u001b[0m\n\u001b[1;32m     35\u001b[0m \u001b[0my\u001b[0m\u001b[0;34m[\u001b[0m\u001b[0;36m2\u001b[0m\u001b[0;34m]\u001b[0m\u001b[0;34m[\u001b[0m\u001b[0;36m0\u001b[0m\u001b[0;34m]\u001b[0m \u001b[0;34m=\u001b[0m \u001b[0;36m14\u001b[0m\u001b[0;34m;\u001b[0m \u001b[0my\u001b[0m\u001b[0;34m[\u001b[0m\u001b[0;36m3\u001b[0m\u001b[0;34m]\u001b[0m\u001b[0;34m[\u001b[0m\u001b[0;36m0\u001b[0m\u001b[0;34m]\u001b[0m \u001b[0;34m=\u001b[0m \u001b[0;36m16\u001b[0m\u001b[0;34m;\u001b[0m\u001b[0;34m\u001b[0m\u001b[0;34m\u001b[0m\u001b[0m\n\u001b[1;32m     36\u001b[0m \u001b[0;31m# calculating divided difference table\u001b[0m\u001b[0;34m\u001b[0m\u001b[0;34m\u001b[0m\u001b[0;34m\u001b[0m\u001b[0m\n\u001b[0;32m---> 37\u001b[0;31m \u001b[0my\u001b[0m\u001b[0;34m=\u001b[0m\u001b[0mdividedDiffTable\u001b[0m\u001b[0;34m(\u001b[0m\u001b[0mx\u001b[0m\u001b[0;34m,\u001b[0m \u001b[0my\u001b[0m\u001b[0;34m,\u001b[0m \u001b[0mn\u001b[0m\u001b[0;34m)\u001b[0m\u001b[0;34m;\u001b[0m\u001b[0;34m\u001b[0m\u001b[0;34m\u001b[0m\u001b[0m\n\u001b[0m",
      "\u001b[0;31mNameError\u001b[0m: name 'dividedDiffTable' is not defined"
     ]
    }
   ],
   "source": [
    "# Python3 program for implementing\n",
    "# Newton divided difference formula\n",
    "# Function to find the product term\n",
    "def proterm(i, value, x): \n",
    "    pro = 1;\n",
    "    for j in range(i):\n",
    "        pro = pro * (value - x[j]);\n",
    "    return pro;\n",
    "# Function for calculating\n",
    "# divided difference table def dividedDiffTable(x, y, n):\n",
    "\n",
    "    for i in range(1, n):\n",
    "        for j in range(n - i):\n",
    "            y[j][i] = ((y[j][i - 1] - y[j + 1][i - 1]) / (x[j] - x[i + j]));\n",
    "    return y;\n",
    "# Function for applying Newton's # divided difference formula\n",
    "def applyFormula(value, x, y, n):\n",
    "    sum = y[0][0];\n",
    "    for i in range(1, n):\n",
    "         sum = sum + (proterm(i, value, x) * y[0][i]); \n",
    "    return sum;\n",
    "# Function for displaying divided # difference table\n",
    "def printDiffTable(y, n):\n",
    "    for i in range(n):\n",
    "        for j in range(n - i):\n",
    "            print(round(y[i][j], 4), \"\\t\", end = \" \");\n",
    "        print(\"\"); # Driver Code\n",
    "# number of inputs given\n",
    "n = 4;\n",
    "y = [[0 for i in range(10)]\n",
    "        for j in range(10)];\n",
    "x = [ 5, 6, 9, 11 ];\n",
    "# y[][] is used for divided difference # table where y[][0] is used for input y[0][0] = 12;\n",
    "y[1][0] = 13;\n",
    "y[2][0] = 14; y[3][0] = 16;\n",
    "# calculating divided difference table\n",
    "y=dividedDiffTable(x, y, n);"
   ]
  },
  {
   "cell_type": "code",
   "execution_count": null,
   "metadata": {},
   "outputs": [],
   "source": []
  }
 ],
 "metadata": {
  "kernelspec": {
   "display_name": "Python 3",
   "language": "python",
   "name": "python3"
  },
  "language_info": {
   "codemirror_mode": {
    "name": "ipython",
    "version": 3
   },
   "file_extension": ".py",
   "mimetype": "text/x-python",
   "name": "python",
   "nbconvert_exporter": "python",
   "pygments_lexer": "ipython3",
   "version": "3.7.3"
  }
 },
 "nbformat": 4,
 "nbformat_minor": 2
}
